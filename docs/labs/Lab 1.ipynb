{
 "cells": [
  {
   "cell_type": "code",
   "execution_count": 9,
   "id": "f63601a5",
   "metadata": {},
   "outputs": [
    {
     "name": "stdout",
     "output_type": "stream",
     "text": [
      "3.466666666666667\n",
      "3.140592653839794\n"
     ]
    }
   ],
   "source": [
    "import sys\n",
    "sys.setrecursionlimit(1100)\n",
    "\n",
    "#PROBLEMA 1: El problema consiste en colcular pi con la serie de leibniz \n",
    "\n",
    "def calcular_pi(n):\n",
    "    resultado = 0\n",
    "\n",
    "    for k in range(1,n+1):\n",
    "        suma = 4 * (((-1)**(k+1))/(2*k-1))\n",
    "        resultado = resultado + suma\n",
    "    return resultado\n",
    "\n",
    "print(calcular_pi(3))\n",
    "print(calcular_pi(1000))"
   ]
  },
  {
   "cell_type": "code",
   "execution_count": 10,
   "id": "7997ab9f",
   "metadata": {},
   "outputs": [
    {
     "name": "stdout",
     "output_type": "stream",
     "text": [
      "6\n",
      "120\n",
      "2.6666666666666665\n",
      "2.7182818284590455\n"
     ]
    }
   ],
   "source": [
    "import sys\n",
    "sys.setrecursionlimit(1100)\n",
    "\n",
    "#PROBLEMA 2: El problema consiste en calcular e con series\n",
    "\n",
    "def factorial(n):\n",
    "    if n == 0 or n==1:\n",
    "        return 1\n",
    "    else: \n",
    "        return n*factorial(n-1) \n",
    "\n",
    "def calcular_e(n):\n",
    "    resultado = 0\n",
    "    \n",
    "    for k in range(0,n+1):\n",
    "      suma = 1/factorial(k)\n",
    "      resultado = resultado + suma\n",
    "    return resultado\n",
    "\n",
    "print(factorial(3))\n",
    "print(factorial(5))\n",
    "\n",
    "print(calcular_e(3))\n",
    "print(calcular_e(1000))"
   ]
  },
  {
   "cell_type": "code",
   "execution_count": 11,
   "id": "4804da75",
   "metadata": {},
   "outputs": [
    {
     "name": "stdout",
     "output_type": "stream",
     "text": [
      "[1, 2, 4, 5, 10, 11, 20, 22, 44, 55, 110]\n",
      "[1, 2, 4, 71, 142]\n",
      "True\n",
      "False\n"
     ]
    }
   ],
   "source": [
    "#PROBLEMA 3: El problema consiste en crear una funcion que determine si dos numeros son amigos\n",
    "\n",
    "def divisores_propios(n):\n",
    "    divisor = 1\n",
    "    lista = []\n",
    "    for i in range(1,n):\n",
    "        if n%divisor == 0:\n",
    "            lista.append(divisor)\n",
    "        divisor = divisor + 1\n",
    "    return lista\n",
    "\n",
    "def amigos(n1,n2):\n",
    "    lista1 = divisores_propios(n1)\n",
    "    lista2 = divisores_propios(n2)\n",
    "    if sum(lista1) == n2 and sum(lista2) == n1:\n",
    "      return True\n",
    "    else:\n",
    "      return False\n",
    "\n",
    "print(divisores_propios(220))\n",
    "print(divisores_propios(284))\n",
    "\n",
    "print(amigos(220,284))\n",
    "print(amigos(6,5))"
   ]
  },
  {
   "cell_type": "code",
   "execution_count": 12,
   "id": "67e8dc18",
   "metadata": {},
   "outputs": [
    {
     "name": "stdout",
     "output_type": "stream",
     "text": [
      "[9, 28, 14, 7, 22, 11, 34, 17, 52, 26, 13, 40, 20, 10, 5, 16, 8, 4, 2, 1]\n"
     ]
    }
   ],
   "source": [
    "#PROBLEMA 4: La conjetura de Collatz 3n+1\n",
    "\n",
    "def collatz(n):\n",
    "    lista = [n]\n",
    "    while n != 1:\n",
    "        if n%2 == 0:\n",
    "            n = n//2\n",
    "        else:\n",
    "            n = 3*n + 1\n",
    "        lista.append(n)\n",
    "    return lista\n",
    "\n",
    "print(collatz(9))"
   ]
  },
  {
   "cell_type": "code",
   "execution_count": 13,
   "id": "e762ca44",
   "metadata": {},
   "outputs": [
    {
     "name": "stdout",
     "output_type": "stream",
     "text": [
      "True\n",
      "False\n",
      "[2, 3]\n",
      "[2, 3, 5]\n",
      "[2, 3, 5, 7]\n",
      "(2, 2)\n",
      "(3, 3)\n",
      "(3, 5)\n"
     ]
    }
   ],
   "source": [
    "#PROBLEMA 5: La conjetura de Goldbach\n",
    "\n",
    "def es_primo(n):\n",
    "  for i in range(2,n):\n",
    "      if n%i == 0:\n",
    "        return False\n",
    "  return True\n",
    "\n",
    "def es_impar(n):\n",
    "  if n%2 == 0:\n",
    "    return False\n",
    "  else: \n",
    "    return True\n",
    "\n",
    "def lista_de_primos(n):\n",
    "    if n <= 2:\n",
    "        return \"Error\"\n",
    "    else:\n",
    "        lista = [2]\n",
    "        for i in range(3,n):\n",
    "            if es_primo(i):\n",
    "                lista.append(i)\n",
    "    return lista\n",
    "\n",
    "def goldbach(n):\n",
    "  lista = lista_de_primos(n)\n",
    "  for i in lista:\n",
    "      for j in lista:\n",
    "          if i+j == n:\n",
    "            return(i,j)\n",
    "        \n",
    "print(es_primo(3))\n",
    "print(es_primo(4))\n",
    "\n",
    "print(lista_de_primos(4))\n",
    "print(lista_de_primos(6))\n",
    "print(lista_de_primos(8))\n",
    "\n",
    "print(goldbach(4))\n",
    "print(goldbach(6))\n",
    "print(goldbach(8))"
   ]
  }
 ],
 "metadata": {
  "kernelspec": {
   "display_name": "Python 3 (ipykernel)",
   "language": "python",
   "name": "python3"
  },
  "language_info": {
   "codemirror_mode": {
    "name": "ipython",
    "version": 3
   },
   "file_extension": ".py",
   "mimetype": "text/x-python",
   "name": "python",
   "nbconvert_exporter": "python",
   "pygments_lexer": "ipython3",
   "version": "3.10.9"
  }
 },
 "nbformat": 4,
 "nbformat_minor": 5
}
